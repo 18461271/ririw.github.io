{
 "cells": [
  {
   "cell_type": "code",
   "execution_count": 1,
   "metadata": {
    "collapsed": false
   },
   "outputs": [
    {
     "name": "stdout",
     "output_type": "stream",
     "text": [
      "Populating the interactive namespace from numpy and matplotlib\n"
     ]
    }
   ],
   "source": [
    "%pylab inline"
   ]
  },
  {
   "cell_type": "code",
   "execution_count": 2,
   "metadata": {
    "collapsed": false
   },
   "outputs": [],
   "source": [
    "import gzip\n",
    "import seaborn as sns\n",
    "import bz2\n",
    "from tqdm import tqdm_notebook as tqdm\n",
    "from collections import defaultdict\n",
    "import gensim.models.word2vec"
   ]
  },
  {
   "cell_type": "code",
   "execution_count": 3,
   "metadata": {
    "collapsed": true
   },
   "outputs": [],
   "source": [
    "# Parameters\n",
    "walk_size = 50\n",
    "n_walks = 1000000\n",
    "tuple_file = '/home/riri/Datasets/dbpedia/page_links_en_uris_nl.ttl.bz2'"
   ]
  },
  {
   "cell_type": "code",
   "execution_count": 4,
   "metadata": {
    "collapsed": false
   },
   "outputs": [
    {
     "name": "stdout",
     "output_type": "stream",
     "text": [
      "\n"
     ]
    }
   ],
   "source": [
    "url_len = len('http://dbpedia.org/resource/ ')\n",
    "\n",
    "links = defaultdict(set)\n",
    "mapping = {}\n",
    "k = 0\n",
    "\n",
    "with bz2.BZ2File(tuple_file, 'r') as links_f:\n",
    "    i = 0\n",
    "    \n",
    "    for l in tqdm(links_f, total=13495220):\n",
    "        l = l.decode('utf-8')\n",
    "        if l.startswith('#'):\n",
    "            continue\n",
    "        f, _, t, _ = l.split(' ')\n",
    "        f = f[url_len:-1]\n",
    "        t = t[url_len:-1]\n",
    "        \n",
    "        if f not in mapping:\n",
    "            mapping[f] = k\n",
    "            k += 1\n",
    "        if t not in mapping:\n",
    "            mapping[t] = k\n",
    "            k += 1\n",
    "        \n",
    "        f = mapping[f]\n",
    "        t = mapping[t]\n",
    "        \n",
    "        links[t].add(f)\n",
    "        links[f].add(t)\n",
    "        i += 1\n",
    "# Turn all sets to lists.\n",
    "for k in links.keys():\n",
    "    links[k] = list(links[k])\n",
    "    \n",
    "inverse_mapping = {v:k for k,v in mapping.items()}"
   ]
  },
  {
   "cell_type": "code",
   "execution_count": 5,
   "metadata": {
    "collapsed": true
   },
   "outputs": [],
   "source": [
    "start_nodes = np.array(list(links.keys()))\n",
    "def random_walk(j):\n",
    "    node = np.random.choice(start_nodes)\n",
    "    \n",
    "    for _ in range(j):\n",
    "        yield node\n",
    "        if not links[node]:\n",
    "            return\n",
    "        node = np.random.choice(links[node])\n",
    "        \n",
    "def sent_gen():\n",
    "    for l in tqdm(range(n_walks)):\n",
    "        yield [inverse_mapping[n] for n in random_walk(walk_size)]"
   ]
  },
  {
   "cell_type": "code",
   "execution_count": 6,
   "metadata": {
    "collapsed": false
   },
   "outputs": [
    {
     "name": "stdout",
     "output_type": "stream",
     "text": [
      "\n"
     ]
    }
   ],
   "source": [
    "model = gensim.models.word2vec.Word2Vec(window=5, min_count=5, workers=4,)\n",
    "model.build_vocab(sent_gen())"
   ]
  },
  {
   "cell_type": "code",
   "execution_count": 7,
   "metadata": {
    "collapsed": false
   },
   "outputs": [
    {
     "name": "stdout",
     "output_type": "stream",
     "text": [
      "\n"
     ]
    },
    {
     "data": {
      "text/plain": [
       "49806419"
      ]
     },
     "execution_count": 7,
     "metadata": {},
     "output_type": "execute_result"
    }
   ],
   "source": [
    "model.train(sent_gen())"
   ]
  },
  {
   "cell_type": "code",
   "execution_count": 44,
   "metadata": {
    "collapsed": false
   },
   "outputs": [
    {
     "data": {
      "text/plain": [
       "<gensim.models.word2vec.Vocab at 0x7f7b7ab07210>"
      ]
     },
     "execution_count": 44,
     "metadata": {},
     "output_type": "execute_result"
    }
   ],
   "source": [
    "model.vocab['Queen']"
   ]
  },
  {
   "cell_type": "code",
   "execution_count": 47,
   "metadata": {
    "collapsed": false
   },
   "outputs": [
    {
     "data": {
      "text/plain": [
       "[(u'Hourglass', 0.9606831669807434),\n",
       " (u'Spinning_(textiles)', 0.957030177116394),\n",
       " (u'Category:Fairy_tales', 0.9566807746887207),\n",
       " (u'Cordwainer', 0.9565625190734863),\n",
       " (u'Combat_boot', 0.9560569524765015),\n",
       " (u'School_library', 0.9518604278564453),\n",
       " (u'Oude_Rode_Ogen', 0.9516125917434692),\n",
       " (u'Body_art', 0.9511663913726807),\n",
       " (u'Garland', 0.9507995247840881),\n",
       " (u'Magdeburg_hemispheres', 0.9503589868545532)]"
      ]
     },
     "execution_count": 47,
     "metadata": {},
     "output_type": "execute_result"
    }
   ],
   "source": [
    "model.most_similar(positive=[u'Male', u'Queen'], negative=[u'Female'])"
   ]
  },
  {
   "cell_type": "code",
   "execution_count": 35,
   "metadata": {
    "collapsed": false
   },
   "outputs": [
    {
     "data": {
      "text/plain": [
       "[(u'Carmangay', 0.8164716958999634),\n",
       " (u'Andorra_at_the_1976_Summer_Olympics', 0.8036561012268066),\n",
       " (u'Kitscoty', 0.7786150574684143),\n",
       " (u'Montreal', 0.7621344923973083),\n",
       " (u'Coderre,_Saskatchewan', 0.761287271976471),\n",
       " (u'Dewberry,_Alberta', 0.7602828145027161),\n",
       " (u'Falher', 0.7563831806182861),\n",
       " (u'New_Zealand', 0.755115270614624),\n",
       " (u'High_River', 0.7530913352966309),\n",
       " (u'Quebec', 0.7511137127876282)]"
      ]
     },
     "execution_count": 35,
     "metadata": {},
     "output_type": "execute_result"
    }
   ],
   "source": [
    "model.most_similar([u'South', u'Canada'], [u'North'])"
   ]
  },
  {
   "cell_type": "code",
   "execution_count": null,
   "metadata": {
    "collapsed": true
   },
   "outputs": [],
   "source": []
  },
  {
   "cell_type": "code",
   "execution_count": null,
   "metadata": {
    "collapsed": true
   },
   "outputs": [],
   "source": []
  }
 ],
 "metadata": {
  "kernelspec": {
   "display_name": "Python 2",
   "language": "python",
   "name": "python2"
  },
  "language_info": {
   "codemirror_mode": {
    "name": "ipython",
    "version": 2
   },
   "file_extension": ".py",
   "mimetype": "text/x-python",
   "name": "python",
   "nbconvert_exporter": "python",
   "pygments_lexer": "ipython2",
   "version": "2.7.6"
  },
  "widgets": {
   "state": {
    "433795680e984a6881429b18eb72e795": {
     "views": [
      {
       "cell_index": 5
      }
     ]
    },
    "453f5f7f88e84a6d8ae94b7dd6a327ad": {
     "views": [
      {
       "cell_index": 3
      }
     ]
    },
    "73680cbc7bda46b08b2e6d54f9c2336a": {
     "views": [
      {
       "cell_index": 6
      }
     ]
    }
   },
   "version": "1.2.0"
  }
 },
 "nbformat": 4,
 "nbformat_minor": 2
}
